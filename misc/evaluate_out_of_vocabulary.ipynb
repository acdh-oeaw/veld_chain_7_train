{
 "cells": [
  {
   "cell_type": "markdown",
   "id": "b5693d17-5ee2-4011-9169-607a30eb0f5b",
   "metadata": {},
   "source": [
    "# count occurrences of out-of-vocabulary"
   ]
  },
  {
   "cell_type": "code",
   "execution_count": 1,
   "id": "e794eefc-8af6-4a37-ab2c-55170bcf4b2b",
   "metadata": {},
   "outputs": [],
   "source": [
    "import spacy\n",
    "import json"
   ]
  },
  {
   "cell_type": "code",
   "execution_count": 2,
   "id": "b1d6b9b9-5838-486c-8d42-a19fb3b2070a",
   "metadata": {},
   "outputs": [
    {
     "name": "stderr",
     "output_type": "stream",
     "text": [
      "/usr/local/lib/python3.10/site-packages/tqdm/auto.py:21: TqdmWarning: IProgress not found. Please update jupyter and ipywidgets. See https://ipywidgets.readthedocs.io/en/stable/user_install.html\n",
      "  from .autonotebook import tqdm as notebook_tqdm\n"
     ]
    }
   ],
   "source": [
    "nlp = spacy.load(\"../veld_data_6_apis_ner_models/models/m2/model/model-best/\")"
   ]
  },
  {
   "cell_type": "code",
   "execution_count": 3,
   "id": "d284edd7-e195-482c-a094-ec8a5f4138ce",
   "metadata": {},
   "outputs": [],
   "source": [
    "with open(\"../veld_data_5_apis_oebl__ner_gold/data/apis_oebl__ner__3_cleaned_simplified.json\", \"r\") as f:\n",
    "    data = json.load(f)"
   ]
  },
  {
   "cell_type": "code",
   "execution_count": 4,
   "id": "9b5b9e68-7832-4eb3-b4fa-01c5269489a0",
   "metadata": {},
   "outputs": [],
   "source": [
    "# iterate over all tokens of all texts, check if it's out of vocabulary and count its occurence\n",
    "count_oov_all = {}\n",
    "for data_row in data:\n",
    "    text = data_row[\"text_raw\"]\n",
    "    for t in nlp(text):\n",
    "        count_oov = count_oov_all.get(t.text)\n",
    "        if count_oov is None:\n",
    "            count_oov_new = (t.is_oov, 1)\n",
    "        else:\n",
    "            count_oov_new = (count_oov[0], count_oov[1] + 1)\n",
    "        count_oov_all[t.text] = count_oov_new"
   ]
  },
  {
   "cell_type": "code",
   "execution_count": 5,
   "id": "5fb4089a-6f84-4e14-9920-6a091adc7aa1",
   "metadata": {},
   "outputs": [
    {
     "name": "stdout",
     "output_type": "stream",
     "text": [
      "count_oov: 12677\n",
      "count_not_oov: 173754\n",
      "percentage oov: 6.8\n"
     ]
    }
   ],
   "source": [
    "# Iterate over all occurrences of oov and not-oov and sum them up and calculate percentage\n",
    "list_oov = []\n",
    "count_oov = 0\n",
    "count_not_oov = 0\n",
    "for k_oov, v_oov in count_oov_all.items():\n",
    "    if v_oov[0]:\n",
    "        list_oov.append((k_oov, v_oov[1]))\n",
    "        count_oov += v_oov[1]\n",
    "    else:\n",
    "        count_not_oov += v_oov[1]\n",
    "print(f\"count_oov: {count_oov}\")\n",
    "print(f\"count_not_oov: {count_not_oov}\")\n",
    "print(f\"percentage oov: {round(100 / (count_oov + count_not_oov) * count_oov, 2)}\")"
   ]
  },
  {
   "cell_type": "code",
   "execution_count": 6,
   "id": "4f67c0a3-6a03-4bdf-b787-2fa6eb60e74b",
   "metadata": {},
   "outputs": [
    {
     "name": "stdout",
     "output_type": "stream",
     "text": [
      "('\\n', 183)\n",
      "('Ehrenmitgl', 71)\n",
      "('Weltausst', 69)\n",
      "('Absolv', 67)\n",
      "('Joseph-Ordens', 52)\n",
      "('Vizepräs', 48)\n",
      "('Griepenkerl', 47)\n",
      "('absolv', 46)\n",
      "('ausgez', 40)\n",
      "('Kunstver', 39)\n",
      "('Erzh', 36)\n",
      "('Staatsgewerbeschule', 32)\n",
      "('Kundmann', 30)\n",
      "('Nüll', 28)\n",
      "('Kupelwieser', 27)\n",
      "('literar', 26)\n",
      "('L’', 26)\n",
      "('Smlg', 24)\n",
      "('Naturhist', 22)\n",
      "('\\n\\n', 21)\n",
      "('verehel', 21)\n",
      "('Kunstakad', 21)\n",
      "('Gründungsmitgl', 21)\n",
      "('Polytechn', 20)\n",
      "('Engerth', 20)\n",
      "('Beitrr', 19)\n",
      "('Erzhg', 19)\n",
      "('Dr.jur', 19)\n",
      "('Zumbusch', 19)\n",
      "('Trenkwald', 17)\n",
      "('Lászlófalva', 17)\n",
      "('Mikeföld', 17)\n",
      "('niederösterr', 17)\n",
      "('Kunstausst', 17)\n",
      "('Napló', 17)\n",
      "('Pesti', 17)\n",
      "('Stud.reisen', 17)\n",
      "('schließl', 16)\n",
      "('Kmdt', 16)\n",
      "('Tagesztg', 16)\n",
      "('polytechn', 16)\n",
      "('Laufberger', 15)\n",
      "('Chefred', 15)\n",
      "('Kriegsmaler', 15)\n",
      "('Künstlergenossenschaft', 15)\n",
      "('Vorstandsmitgl', 14)\n",
      "('Ábrányi', 14)\n",
      "('Schottengymn', 14)\n",
      "('→Franz', 14)\n",
      "('Ing.-', 14)\n",
      "('Sicardsburg', 14)\n",
      "('Hagenbundes', 13)\n",
      "('Zentralvereinigung', 13)\n",
      "('Supplent', 13)\n",
      "('Jgg', 12)\n",
      "('Mjr', 12)\n",
      "('Gundel-Preis', 12)\n",
      "('Handelsakad', 12)\n",
      "('Á.', 12)\n",
      "('Landtagsabg', 11)\n",
      "('Reichel-Preis', 11)\n",
      "('Ferstels', 11)\n",
      "('Architekten-Vereins', 11)\n",
      "('Künstlerhausmitgl', 11)\n",
      "('Löfftz', 11)\n",
      "('Siccardsburg', 11)\n",
      "('hauptsächl', 11)\n",
      "('Musikver', 11)\n",
      "('Zentralkomm', 10)\n",
      "('provisor', 10)\n",
      "('romant', 10)\n",
      "('Wochenbl', 10)\n",
      "('publizist', 10)\n",
      "('listy', 10)\n",
      "('Philol', 10)\n",
      "('Piaristengymn', 10)\n",
      "('plast', 10)\n",
      "('Tagblattes', 10)\n",
      "('Hofmus', 9)\n",
      "('Feuilletonredakteur', 9)\n",
      "('Kmdo', 9)\n",
      "('Reichsratsabg', 9)\n",
      "('architekton', 9)\n",
      "('Gmd.rat', 9)\n",
      "('Südbahnges', 9)\n",
      "('Füger-Preis', 9)\n",
      "('Sicard', 9)\n",
      "('Peithner', 9)\n",
      "('Weyr', 9)\n",
      "('maßgebl', 9)\n",
      "('Handelsmin', 9)\n",
      "('kaufmänn', 9)\n",
      "('Insp', 9)\n",
      "('Schriftstellerver', 9)\n",
      "('Mössmer', 9)\n",
      "('Debreczin', 9)\n",
      "('1870–73', 8)\n",
      "('Lapok', 8)\n",
      "('Bauges', 8)\n",
      "('zeitgenöss', 8)\n"
     ]
    }
   ],
   "source": [
    "# show the most commont oov tokens\n",
    "list_oov.sort(key=lambda x: -x[1])\n",
    "for oov in list_oov[:100]:\n",
    "    print(oov)"
   ]
  }
 ],
 "metadata": {
  "kernelspec": {
   "display_name": "Python 3 (ipykernel)",
   "language": "python",
   "name": "python3"
  },
  "language_info": {
   "codemirror_mode": {
    "name": "ipython",
    "version": 3
   },
   "file_extension": ".py",
   "mimetype": "text/x-python",
   "name": "python",
   "nbconvert_exporter": "python",
   "pygments_lexer": "ipython3",
   "version": "3.10.12"
  }
 },
 "nbformat": 4,
 "nbformat_minor": 5
}
